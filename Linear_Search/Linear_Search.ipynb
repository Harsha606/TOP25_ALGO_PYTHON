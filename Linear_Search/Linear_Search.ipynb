{
 "cells": [
  {
   "cell_type": "markdown",
   "metadata": {},
   "source": [
    "# Linear Search"
   ]
  },
  {
   "cell_type": "markdown",
   "metadata": {},
   "source": [
    "## Description\n",
    "Linear search, also known as sequential search, is a simple searching algorithm that finds the position of a target value within a list or array. It sequentially checks each element of the list until a match is found or the entire list has been traversed."
   ]
  },
  {
   "cell_type": "markdown",
   "metadata": {},
   "source": [
    "\n",
    "## Algorithm\n",
    "1. Start from the beginning of the list.\n",
    "2. Compare the target value with each element in the list.\n",
    "3. If a match is found, return the index of the matching element.\n",
    "4. If the entire list has been traversed and no match is found, return a special value (e.g., -1) to indicate that the target value is not in the list.\n",
    "\n"
   ]
  },
  {
   "cell_type": "markdown",
   "metadata": {},
   "source": [
    "### Usage\n",
    "Linear search is straightforward and is suitable for small-sized lists or when the elements are not in any particular order. Here are some common use cases for linear search:\n",
    "\n",
    "1. **Unordered Lists:** When the elements in the list are not sorted, linear search can be used to find the target element.\n",
    "\n",
    "   ```python\n",
    "   numbers = [5, 2, 9, 1, 5, 6]\n",
    "   target_value = 9\n",
    "   result = linear_search(numbers, target_value)\n",
    "   ```\n",
    "\n",
    "2. **Debugging:** Linear search is often used in debugging to quickly check if a particular element exists in a data structure.\n",
    "\n",
    "   ```python\n",
    "   log_messages = [\"Error: File not found\", \"Warning: Low battery\", \"Info: Operation successful\"]\n",
    "   target_message = \"Warning: Low battery\"\n",
    "   result = linear_search(log_messages, target_message)\n",
    "   ```\n",
    "\n",
    "3. **Early Exit:** In scenarios where we don't need to find all occurrences of a value, linear search can be used for an early exit as soon as the first match is found.\n",
    "\n",
    "   ```python\n",
    "   grades = [85, 90, 78, 92, 88, 94]\n",
    "   passing_grade = 90\n",
    "   result = linear_search(grades, passing_grade)\n",
    "   ```\n"
   ]
  },
  {
   "cell_type": "markdown",
   "metadata": {},
   "source": [
    "### Complexity Analysis of Linear Search:\n",
    "#### Time Complexity:\n",
    "\n",
    "##### Best Case O(1): \n",
    "In the best case, the key might be present at the first index. So the best case complexity is O(1)\n",
    "##### Worst Case O(N): \n",
    "In the worst case, the key might be present at the last index i.e., opposite to the end from which the search has started in the list. So the\n",
    "worst-case complexity is O(N) where N is the size of the list.\n",
    "##### Average Case: O(N)\n",
    "\n",
    "##### Auxiliary Space: O(1) as except for the variable to iterate through the list, no other variable is used. \n"
   ]
  },
  {
   "cell_type": "markdown",
   "metadata": {},
   "source": [
    "### Pros of Linear Search:\n",
    "\n",
    "1. **Simplicity:** Linear search is one of the simplest searching algorithms. It is easy to understand and implement.\n",
    "  \n",
    "2. **Universal Applicability:** Linear search can be applied to any list or array, regardless of whether it is sorted or unsorted.\n",
    "\n",
    "3. **Works for Unordered Lists:** Linear search is effective when dealing with unordered lists. There's no requirement for the elements to be arranged in any specific order.\n",
    "\n",
    "4. **No Preprocessing:** Unlike some other search algorithms (e.g., binary search), linear search doesn't require the list to be preprocessed or sorted.\n",
    "\n",
    "5. **Early Exit:** In scenarios where you only need to find the first occurrence of an element, linear search can terminate early upon finding a match.\n",
    "\n",
    "### Cons of Linear Search:\n",
    "\n",
    "1. **Inefficiency for Large Lists:** The main drawback of linear search is its inefficiency for large lists. The time complexity is O(n), where n is the number of elements in the list. As the size of the list grows, the search time increases linearly.\n",
    "\n",
    "2. **Not Suitable for Sorted Lists:** Linear search is not the most efficient choice for searching in sorted lists. Binary search, which has a logarithmic time complexity, is more appropriate for such cases.\n",
    "\n",
    "3. **Redundant Comparisons:** Linear search may involve redundant comparisons even after finding the target element. This is because it continues searching through the entire list, even after a match is found.\n",
    "\n",
    "4. **Limited Use in Real-Time Systems:** In real-time systems where quick responses are crucial, linear search may not be the best choice due to its linear time complexity.\n",
    "\n",
    "5. **Not Suitable for Frequency Counting:** If you need to count the frequency of a specific element, linear search would not be the most efficient approach. Hashing or other techniques could provide a better solution.\n",
    "\n",
    "In summary, linear search is a simple and versatile algorithm that is easy to implement but becomes inefficient for large datasets. It is best suited for small lists or scenarios where simplicity and ease of implementation are more important than search speed. For larger datasets or sorted lists, more advanced search algorithms may be preferable."
   ]
  },
  {
   "cell_type": "markdown",
   "metadata": {},
   "source": [
    "# Implementation of Linear Search Using Python"
   ]
  },
  {
   "cell_type": "code",
   "execution_count": 4,
   "metadata": {},
   "outputs": [
    {
     "name": "stdout",
     "output_type": "stream",
     "text": [
      "Element is present at index 1\n"
     ]
    }
   ],
   "source": [
    "# Python3 code to linearly search x in arr[]. \n",
    "def linear_search(arr, N, x): \n",
    "\tfor i in range(0, N): \n",
    "\t\tif (arr[i] == x): \n",
    "\t\t\treturn i \n",
    "\treturn -1\n",
    "# Driver Code \n",
    "if __name__ == \"__main__\": \n",
    "\tarr = [85, 90, 78, 92, 88, 94]\n",
    "\tx = 90\n",
    "\tN = len(arr) \n",
    "\t# Function call \n",
    "\tresult = linear_search(arr, N, x) \n",
    "\tif(result == -1): \n",
    "\t\tprint(\"Element is not present in array\") \n",
    "\telse: \n",
    "\t\tprint(\"Element is present at index\", result) "
   ]
  },
  {
   "cell_type": "markdown",
   "metadata": {},
   "source": [
    "# Coding Questions to Practice\n"
   ]
  },
  {
   "cell_type": "markdown",
   "metadata": {},
   "source": [
    "https://www.hackerearth.com/practice/algorithms/searching/linear-search/practice-problems/"
   ]
  }
 ],
 "metadata": {
  "kernelspec": {
   "display_name": "Python 3",
   "language": "python",
   "name": "python3"
  },
  "language_info": {
   "codemirror_mode": {
    "name": "ipython",
    "version": 3
   },
   "file_extension": ".py",
   "mimetype": "text/x-python",
   "name": "python",
   "nbconvert_exporter": "python",
   "pygments_lexer": "ipython3",
   "version": "3.10.0"
  }
 },
 "nbformat": 4,
 "nbformat_minor": 2
}
