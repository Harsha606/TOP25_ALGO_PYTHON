{
 "cells": [
  {
   "cell_type": "markdown",
   "metadata": {},
   "source": [
    "## Find MEX"
   ]
  },
  {
   "cell_type": "code",
   "execution_count": null,
   "metadata": {},
   "outputs": [],
   "source": [
    "# Taking the Input from user\n",
    "N=int(input())\n",
    "arr=list(map(int,input().split()))\n",
    "mex_values = []\n",
    "seen_set = set()\n",
    "mex = 0\n",
    "for num in arr:\n",
    "    seen_set.add(num)\n",
    "    # Update MEX if the current MEX is in the set\n",
    "    while mex in seen_set:\n",
    "        mex += 1\n",
    "    mex_values.append(mex)\n",
    "for val in mex_values:\n",
    "    print(val,end=' ')"
   ]
  },
  {
   "cell_type": "markdown",
   "metadata": {},
   "source": [
    "## Employee Rating"
   ]
  },
  {
   "cell_type": "code",
   "execution_count": null,
   "metadata": {},
   "outputs": [],
   "source": [
    "def solve (N, workload):\n",
    "    res=[]\n",
    "    c=0\n",
    "    for daily_worload in range(N):\n",
    "        if workload[daily_worload]>6:\n",
    "            c+=1\n",
    "        else:\n",
    "            res.append(c)\n",
    "            c=0\n",
    "    return max(res)\n",
    "\n",
    "N = int(input())\n",
    "workload = list(map(int, input().split()))\n",
    "\n",
    "out_ = solve(N, workload)\n",
    "print (out_)"
   ]
  },
  {
   "cell_type": "markdown",
   "metadata": {},
   "source": []
  }
 ],
 "metadata": {
  "kernelspec": {
   "display_name": "Python 3",
   "language": "python",
   "name": "python3"
  },
  "language_info": {
   "codemirror_mode": {
    "name": "ipython",
    "version": 3
   },
   "file_extension": ".py",
   "mimetype": "text/x-python",
   "name": "python",
   "nbconvert_exporter": "python",
   "pygments_lexer": "ipython3",
   "version": "3.10.0"
  }
 },
 "nbformat": 4,
 "nbformat_minor": 2
}
